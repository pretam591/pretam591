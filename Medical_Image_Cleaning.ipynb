{
  "cells": [
    {
      "cell_type": "markdown",
      "metadata": {
        "id": "view-in-github",
        "colab_type": "text"
      },
      "source": [
        "<a href=\"https://colab.research.google.com/github/pretam591/pretam591/blob/main/Medical_Image_Cleaning.ipynb\" target=\"_parent\"><img src=\"https://colab.research.google.com/assets/colab-badge.svg\" alt=\"Open In Colab\"/></a>"
      ]
    },
    {
      "cell_type": "markdown",
      "metadata": {
        "id": "M6yBgCzdHULx"
      },
      "source": [
        "**MOUNTING GOOGLE DRIVE**"
      ]
    },
    {
      "cell_type": "code",
      "execution_count": null,
      "metadata": {
        "colab": {
          "base_uri": "https://localhost:8080/"
        },
        "id": "4rKPtlGsBeZI",
        "outputId": "8e41eee1-b1ca-46e2-9a0e-c460e6bea05f"
      },
      "outputs": [
        {
          "name": "stdout",
          "output_type": "stream",
          "text": [
            "Mounted at /content/drive\n"
          ]
        }
      ],
      "source": [
        "from google.colab import drive\n",
        "drive.mount('/content/drive')"
      ]
    },
    {
      "cell_type": "markdown",
      "metadata": {
        "id": "V2o-bUgMJj7R"
      },
      "source": [
        "**IMPORTING LIBRARIES**"
      ]
    },
    {
      "cell_type": "code",
      "execution_count": null,
      "metadata": {
        "id": "IidFAVQHBxNE"
      },
      "outputs": [],
      "source": [
        "import numpy as np\n",
        "import cv2\n",
        "import math\n",
        "import os\n",
        "from PIL import Image\n",
        "from tqdm import tqdm"
      ]
    },
    {
      "cell_type": "markdown",
      "metadata": {
        "id": "LFYTudUON0zl"
      },
      "source": [
        "**RESIZING IMAGE (INTO HALF)**"
      ]
    },
    {
      "cell_type": "markdown",
      "metadata": {
        "id": "idKURS3v93pa"
      },
      "source": [
        "**GENERATING MULTIPLE IMAGES (VIA CROPPING)**"
      ]
    },
    {
      "cell_type": "code",
      "execution_count": null,
      "metadata": {
        "id": "M_6ZQO4DSp-I"
      },
      "outputs": [],
      "source": [
        "from skimage.io import imsave\n",
        "def crop_save(img, filename):\n",
        "  save_path = \"/content/drive/MyDrive/Image Dataset/\"\n",
        "  os.makedirs(save_path, exist_ok=True)\n",
        "  count = 0\n",
        "  for i in range(0,img.shape[0]//256):\n",
        "    for j in range(0,img.shape[1]//256):\n",
        "      xmin = 256*i\n",
        "      xmax = 256*i + 255\n",
        "      ymin = 256*j\n",
        "      ymax = 256*j + 255\n",
        "      #print(f\"image{count}: {xmin}, {xmax}, {ymin}, {ymax}\") #printing image number with their dimensions from original image\n",
        "      count+=1 # variable keeping count of number of images\n",
        "      #resized_img = cv2.resize(np_img,(new_width, new_height))\n",
        "      cropped_img = resized_img[xmin:xmax+1,ymin:ymax+1]\n",
        "      #cv2.imwrite(f\"sample{i},{j}.png\",cropped_img) # writing image to directory\n",
        "      imsave(f\"{save_path}{filename}_{xmin}_{xmax}_{ymin}_{ymax}.png\",cropped_img)"
      ]
    },
    {
      "cell_type": "markdown",
      "metadata": {
        "id": "lTDQB9mt-Pj5"
      },
      "source": [
        "**DRIVER SECTION**"
      ]
    },
    {
      "cell_type": "code",
      "execution_count": null,
      "metadata": {
        "colab": {
          "base_uri": "https://localhost:8080/"
        },
        "id": "TrDyr7anaxQY",
        "outputId": "8e15f0c9-e46f-4aa7-dfd1-f18e07cfac27"
      },
      "outputs": [
        {
          "name": "stderr",
          "output_type": "stream",
          "text": [
            "\r  0%|          | 0/3 [00:00<?, ?it/s]/usr/local/lib/python3.7/dist-packages/ipykernel_launcher.py:17: UserWarning: /content/drive/MyDrive/Image Dataset/1_0_0_0_255_256_511.png is a low contrast image\n",
            "/usr/local/lib/python3.7/dist-packages/ipykernel_launcher.py:17: UserWarning: /content/drive/MyDrive/Image Dataset/1_0_0_768_1023_1024_1279.png is a low contrast image\n",
            "/usr/local/lib/python3.7/dist-packages/ipykernel_launcher.py:17: UserWarning: /content/drive/MyDrive/Image Dataset/1_0_0_1024_1279_1024_1279.png is a low contrast image\n",
            "100%|██████████| 3/3 [00:04<00:00,  1.63s/it]\n"
          ]
        }
      ],
      "source": [
        "\"\"\"\n",
        "import os\n",
        "from PIL import Image\n",
        "import numpy as np\n",
        "import cv2\n",
        "from tqdm import tqdm\n",
        "\"\"\"\n",
        "path = '/content/drive/MyDrive/Test'\n",
        "\n",
        "for image in tqdm(os.listdir(path)):\n",
        "    if image.endswith(\".png\"):\n",
        "      img = Image.open(path + \"/\" + image)\n",
        "      np_img = np.array(img)\n",
        "      cropped_img = np_img[:,94:2654,:]\n",
        "      h,w,_ = cropped_img.shape\n",
        "      resized_img = cv2.resize(np_img,dsize = (h//2,w//2),interpolation = cv2.INTER_NEAREST) # h=3584/2=1792 , w=2560/2= 1280\n",
        "      crop_save(resized_img, (\"_\").join(image.split('.')[:3]))\n",
        "\n",
        "# for every image:-  7 times move right(1792/256=7) & 5 times move down (1280/256 = 5)\n",
        "# hence, for every image a total of 7*5 = 35 small images goes to dataset\n",
        "# 35 * 44 = 1540 images generated."
      ]
    },
    {
      "cell_type": "code",
      "execution_count": null,
      "metadata": {
        "colab": {
          "base_uri": "https://localhost:8080/"
        },
        "id": "smv6EsFxvkOZ",
        "outputId": "98120157-8505-430e-da1b-7ce1440a17c8"
      },
      "outputs": [
        {
          "name": "stderr",
          "output_type": "stream",
          "text": [
            "100%|██████████| 3/3 [00:00<00:00,  8.46it/s]"
          ]
        },
        {
          "name": "stdout",
          "output_type": "stream",
          "text": [
            "(2748, 3584, 3)\n",
            "(1792, 1280, 3)\n",
            "(255, 255, 3)\n",
            "(127, 80, 3)\n",
            "(255, 255, 3)\n",
            "(127, 80, 3)\n"
          ]
        },
        {
          "name": "stderr",
          "output_type": "stream",
          "text": [
            "\n"
          ]
        }
      ],
      "source": [
        "\"\"\"path = '/content/drive/MyDrive/Test'\n",
        "\n",
        "for image in tqdm(os.listdir(path)):\n",
        "    if image.endswith(\".png\"):\n",
        "      img = Image.open(path + \"/\" + image)\n",
        "      np_img = np.array(img)\n",
        "      print(np_img.shape)\n",
        "      cropped_img = np_img[94:2654,:,:]\n",
        "      h,w,_ = cropped_img.shape\n",
        "      resized_img = cv2.resize(np_img,dsize = (h//2,w//2),interpolation = cv2.INTER_NEAREST)\n",
        "      print(resized_img.shape)\n",
        "      #crop_save(resized_img, (\"_\").join(image.split('.')[:3]))\"\"\""
      ]
    },
    {
      "cell_type": "code",
      "execution_count": null,
      "metadata": {
        "colab": {
          "background_save": true,
          "base_uri": "https://localhost:8080/"
        },
        "id": "LoGJCQnV6tPV",
        "outputId": "976bfca6-7aad-4781-961c-652a5891fe71"
      },
      "outputs": [
        {
          "name": "stderr",
          "output_type": "stream",
          "text": [
            "100%|██████████| 3/3 [00:00<00:00,  8.44it/s]"
          ]
        },
        {
          "name": "stdout",
          "output_type": "stream",
          "text": [
            "(2748, 3584, 3) initial\n",
            "(1280, 1374, 3) last\n",
            "(255, 255, 3) initial\n",
            "(80, 127, 3) last\n",
            "(255, 255, 3) initial\n",
            "(80, 127, 3) last\n"
          ]
        },
        {
          "name": "stderr",
          "output_type": "stream",
          "text": [
            "\n"
          ]
        }
      ],
      "source": [
        "\"\"\"path = '/content/drive/MyDrive/Test'\n",
        "\n",
        "for image in tqdm(os.listdir(path)):\n",
        "    if image.endswith(\".png\"):\n",
        "      img = Image.open(path + \"/\" + image)\n",
        "      np_img = np.array(img)\n",
        "      print(f\"{np_img.shape}\")\n",
        "      cropped_img = np_img[:,94:2654,:]\n",
        "      h,w,_ = cropped_img.shape\n",
        "      resized_img = cv2.resize(np_img,dsize = (h//2,w//2),interpolation = cv2.INTER_NEAREST)\n",
        "      print(f\"{resized_img.shape} last\")\n",
        "      #crop_save(resized_img, (\"_\").join(image.split('.')[:3]))\"\"\""
      ]
    }
  ],
  "metadata": {
    "colab": {
      "provenance": [],
      "include_colab_link": true
    },
    "kernelspec": {
      "display_name": "Python 3",
      "name": "python3"
    },
    "language_info": {
      "name": "python"
    }
  },
  "nbformat": 4,
  "nbformat_minor": 0
}